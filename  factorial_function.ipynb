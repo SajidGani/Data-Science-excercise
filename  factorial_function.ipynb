{
 "cells": [
  {
   "cell_type": "code",
   "execution_count": 9,
   "id": "45d02208-6f82-4314-a557-37e32478e1fd",
   "metadata": {},
   "outputs": [],
   "source": [
    "#__Factorial Definition__\n",
    "##The factorial function is user-defined in the cell below\n",
    "###This is done so it is easier for future coders who wants to use this function. \n",
    "###This function can now be implemented only by using its keyword and not the whole implementation"
   ]
  },
  {
   "cell_type": "code",
   "execution_count": 1,
   "id": "23c18d25-0eb3-4893-a103-c85cb04bc1b1",
   "metadata": {},
   "outputs": [],
   "source": [
    "def factorial(n):\n",
    "    if n==0:\n",
    "        return 1\n",
    "    else:\n",
    "        return n * factorial(n-1)"
   ]
  },
  {
   "cell_type": "code",
   "execution_count": 4,
   "id": "f7eb0ea7-4d56-42c6-aa15-578c734c942b",
   "metadata": {},
   "outputs": [
    {
     "name": "stdout",
     "output_type": "stream",
     "text": [
      "120\n"
     ]
    }
   ],
   "source": [
    "print(factorial(5));"
   ]
  },
  {
   "cell_type": "code",
   "execution_count": null,
   "id": "16c298c2-69fc-45de-bd63-5a25f4e44384",
   "metadata": {},
   "outputs": [],
   "source": [
    "##The factorial is the product of all the numbers lesser than the given factorial."
   ]
  }
 ],
 "metadata": {
  "kernelspec": {
   "display_name": "Python 3 (ipykernel)",
   "language": "python",
   "name": "python3"
  },
  "language_info": {
   "codemirror_mode": {
    "name": "ipython",
    "version": 3
   },
   "file_extension": ".py",
   "mimetype": "text/x-python",
   "name": "python",
   "nbconvert_exporter": "python",
   "pygments_lexer": "ipython3",
   "version": "3.13.5"
  }
 },
 "nbformat": 4,
 "nbformat_minor": 5
}
